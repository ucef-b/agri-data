{
  "cells": [
    {
      "cell_type": "markdown",
      "id": "93a068c7",
      "metadata": {
        "id": "93a068c7"
      },
      "source": [
        "### Agriculture Vision Datasets\n",
        "\n"
      ]
    },
    {
      "cell_type": "code",
      "execution_count": null,
      "id": "82cb2367",
      "metadata": {
        "id": "82cb2367"
      },
      "outputs": [],
      "source": [
        "!pip install gdown >> /dev/null\n",
        "!git clone https://github.com/ucef-b/agri-data.git >> /dev/null"
      ]
    },
    {
      "cell_type": "markdown",
      "id": "809dd846",
      "metadata": {
        "id": "809dd846"
      },
      "source": [
        "Download data small one with 4GB"
      ]
    },
    {
      "cell_type": "code",
      "execution_count": 2,
      "id": "53b1fbc3",
      "metadata": {
        "colab": {
          "base_uri": "https://localhost:8080/"
        },
        "id": "53b1fbc3",
        "outputId": "04fdeab7-c114-49c8-dcc3-aa416cc1f052"
      },
      "outputs": [
        {
          "name": "stdout",
          "output_type": "stream",
          "text": [
            "/usr/local/lib/python3.11/dist-packages/gdown/__main__.py:140: FutureWarning: Option `--id` was deprecated in version 4.3.1 and will be removed in 5.0. You don't need to pass it anymore to use a file ID.\n",
            "  warnings.warn(\n",
            "Downloading...\n",
            "From (original): https://drive.google.com/uc?id=1NLMpnMk_XPiVJddvqmsoCRjqTfIS88ra\n",
            "From (redirected): https://drive.google.com/uc?id=1NLMpnMk_XPiVJddvqmsoCRjqTfIS88ra&confirm=t&uuid=7f31b1d6-809e-4d6f-acad-2bb6d3e313b3\n",
            "To: /content/Agriculture-Vision-2021_val.zip\n",
            "100% 4.05G/4.05G [01:11<00:00, 56.4MB/s]\n"
          ]
        }
      ],
      "source": [
        "!gdown --id 1NLMpnMk_XPiVJddvqmsoCRjqTfIS88ra"
      ]
    },
    {
      "cell_type": "code",
      "execution_count": null,
      "id": "34a051bb",
      "metadata": {
        "id": "34a051bb"
      },
      "outputs": [],
      "source": [
        "!unzip Agriculture-Vision-2021_val.zip  >> /dev/null\n",
        "\n",
        "!cp agriculture-data/* /content/"
      ]
    },
    {
      "cell_type": "markdown",
      "id": "3c7bc079",
      "metadata": {},
      "source": [
        "Specifies which agricultural conditions to process:\n",
        "- Nutrient deficiency\n",
        "- Drydown\n",
        "- Planter skip\n",
        "- Water issues\n",
        "\n",
        "#### Additional Options\n",
        "- `--img-size 256 256`: Resizes all images to 256x256 pixels \n",
        "- `--max-samples 50`: Limits the dataset to 50 samples per label\n",
        "- `--test-split 0.4`: Allocates 40% of data for testing, 60% for training\n",
        "\n",
        "#### Output Structure\n",
        "The script will create:\n",
        "- `val/train/`: Training data directory\n",
        "- `val/test/`: Testing data directory\n",
        "  - Each containing processed images and their corresponding masks"
      ]
    },
    {
      "cell_type": "code",
      "execution_count": null,
      "id": "57cc0120",
      "metadata": {
        "colab": {
          "base_uri": "https://localhost:8080/"
        },
        "id": "57cc0120",
        "outputId": "9bb05d2b-33c8-4705-f113-b91c793db2f7"
      },
      "outputs": [
        {
          "name": "stdout",
          "output_type": "stream",
          "text": [
            "Precomputing class mappings...\n",
            "100% 9/9 [00:00<00:00, 17.79it/s]\n",
            "\n",
            "Processing images...\n",
            "  0% 79/18334 [00:01<06:18, 48.27it/s]\n",
            "\n",
            "Final statistics:\n",
            "Total processed images: 50\n",
            "nutrient_deficiency: 23 (46.0%)\n",
            "drydown: 18 (36.0%)\n",
            "planter_skip: 5 (10.0%)\n",
            "water: 4 (8.0%)\n",
            "\n",
            "Dataset split into 30 train and 20 test samples\n"
          ]
        }
      ],
      "source": [
        "!python DataPrepare.py --source \"content/Agriculture-Vision-2021/val\" \\\n",
        "                    --output \"./val\" \\\n",
        "                    --selected nutrient_deficiency drydown planter_skip water \\\n",
        "                    --img-size 256 256 \\\n",
        "                    --max-samples 50 \\\n",
        "                    --test-split 0.4"
      ]
    },
    {
      "cell_type": "markdown",
      "id": "acd8690b",
      "metadata": {},
      "source": [
        "\n",
        "- `--source \"content/Agriculture-Vision-2021/val\"`: Input directory containing the raw dataset\n",
        "- `--output \"./val\"`: Directory where processed data will be saved\n",
        "- consist train and test"
      ]
    },
    {
      "cell_type": "code",
      "execution_count": 28,
      "id": "40c50f4c",
      "metadata": {
        "id": "40c50f4c"
      },
      "outputs": [],
      "source": [
        "from DataLoader import DatasetLoader\n",
        "\n",
        "dataset_path = \"val/train\"\n",
        "train_dataset = DatasetLoader(\n",
        "    working_path=dataset_path,\n",
        "    batch_size=8,\n",
        "    export_type=\"NDVI\",  # Options: \"RGBN\", \"NDVI\", \"RGB\"\n",
        "    outputs_type=\"mask_only\",  # Options: \"mask_only\", \"class_only\", \"both\"\n",
        "    augmentation=False,\n",
        "    shuffle=True\n",
        ")"
      ]
    },
    {
      "cell_type": "code",
      "execution_count": 33,
      "id": "7e459f2c",
      "metadata": {
        "colab": {
          "base_uri": "https://localhost:8080/"
        },
        "id": "7e459f2c",
        "outputId": "15e1717f-89e3-4c98-d653-10620ca4c1c2"
      },
      "outputs": [
        {
          "name": "stdout",
          "output_type": "stream",
          "text": [
            "(8, 256, 256, 1)\n",
            "(8, 256, 256, 4)\n"
          ]
        }
      ],
      "source": [
        "for x, y in train_dataset:\n",
        "  print(x.shape)\n",
        "  print(y.shape)\n",
        "  break"
      ]
    }
  ],
  "metadata": {
    "colab": {
      "provenance": []
    },
    "kernelspec": {
      "display_name": "base",
      "language": "python",
      "name": "python3"
    },
    "language_info": {
      "codemirror_mode": {
        "name": "ipython",
        "version": 3
      },
      "file_extension": ".py",
      "mimetype": "text/x-python",
      "name": "python",
      "nbconvert_exporter": "python",
      "pygments_lexer": "ipython3",
      "version": "3.12.3"
    }
  },
  "nbformat": 4,
  "nbformat_minor": 5
}
